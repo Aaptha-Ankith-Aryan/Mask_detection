{
  "nbformat": 4,
  "nbformat_minor": 0,
  "metadata": {
    "colab": {
      "name": "Mask_detection.ipynb",
      "provenance": [],
      "collapsed_sections": []
    },
    "kernelspec": {
      "name": "python3",
      "display_name": "Python 3"
    },
    "language_info": {
      "name": "python"
    }
  },
  "cells": [
    {
      "cell_type": "markdown",
      "metadata": {
        "id": "S7sVjJaMADGh"
      },
      "source": [
        "**Done in collaoration with Aaptha BV, Aryan Sharma, Ankith BV**"
      ]
    },
    {
      "cell_type": "code",
      "metadata": {
        "id": "kvPE6WlB48xK"
      },
      "source": [
        "from sklearn.linear_model import LogisticRegression\n",
        "from sklearn.model_selection import train_test_split\n",
        "import matplotlib.pyplot as plt\n",
        "import tensorflow as tf\n",
        "import numpy as np\n",
        "import pandas as pd\n",
        "import os\n",
        "import cv2\n",
        "import tensorflow as tf\n",
        "from google.colab.patches import cv2_imshow\n",
        "\n",
        "import keras\n",
        "from keras.models import Sequential\n",
        "from keras.layers import Dense, Conv2D , MaxPool2D , Flatten , Dropout \n",
        "from keras.preprocessing.image import ImageDataGenerator\n",
        "from keras.optimizers import Adam\n",
        "\n",
        "from sklearn.metrics import classification_report,confusion_matrix"
      ],
      "execution_count": null,
      "outputs": []
    },
    {
      "cell_type": "code",
      "metadata": {
        "id": "MRYNvHSeLKNu"
      },
      "source": [
        "from google.colab.patches import cv2_imshow"
      ],
      "execution_count": null,
      "outputs": []
    },
    {
      "cell_type": "code",
      "metadata": {
        "colab": {
          "base_uri": "https://localhost:8080/"
        },
        "id": "4yVHFoz87qNW",
        "outputId": "55e70cb6-56fb-432e-9648-7e9443671074"
      },
      "source": [
        "from google.colab import drive\n",
        "drive.mount('/content/gdrive')"
      ],
      "execution_count": null,
      "outputs": [
        {
          "output_type": "stream",
          "text": [
            "Mounted at /content/gdrive\n"
          ],
          "name": "stdout"
        }
      ]
    },
    {
      "cell_type": "code",
      "metadata": {
        "colab": {
          "base_uri": "https://localhost:8080/"
        },
        "id": "gl_EpWP870QJ",
        "outputId": "422f5e8b-015e-4b71-f5ae-5136de5acacd"
      },
      "source": [
        "!ls gdrive/MyDrive"
      ],
      "execution_count": null,
      "outputs": [
        {
          "output_type": "stream",
          "text": [
            "'[Anime Time] Kimetsu no Yaiba - Demon Slayer - Mugen Train (2020) [1080p][PSN][Dual Audio][HEVC 10bit x265][Eng Sub].mkv'\n",
            " Datasets\n",
            "'MatlabProject_ImageRestoration (1).pdf'\n",
            "'MatlabProject_ImageRestoration (2).pdf'\n",
            " MatlabProject_ImageRestoration.pdf\n",
            " PES2UG19CS068_C.c\n",
            " PES2UG19CS068_H.h\n",
            " PES2UG19CS068_S.c\n"
          ],
          "name": "stdout"
        }
      ]
    },
    {
      "cell_type": "code",
      "metadata": {
        "colab": {
          "base_uri": "https://localhost:8080/"
        },
        "id": "LXuIbSWS72H8",
        "outputId": "b01c7834-48b5-46cf-fe54-7b5f8ca16768"
      },
      "source": [
        "!unzip gdrive/MyDrive/MD.zip"
      ],
      "execution_count": null,
      "outputs": [
        {
          "output_type": "stream",
          "text": [
            "unzip:  cannot find or open gdrive/MyDrive/MD.zip, gdrive/MyDrive/MD.zip.zip or gdrive/MyDrive/MD.zip.ZIP.\n"
          ],
          "name": "stdout"
        }
      ]
    },
    {
      "cell_type": "code",
      "metadata": {
        "id": "CtRwukCj8Vhe",
        "colab": {
          "base_uri": "https://localhost:8080/"
        },
        "outputId": "f87f736e-5f71-49d1-de55-8aa4569c1a7e"
      },
      "source": [
        "directory = '/content'\n",
        "choice = ['with_mask', 'without_mask']\n",
        "dataset = []\n",
        "img_size = 224\n",
        "\n",
        "for i in choice:\n",
        "  #Contains the path of the folder along with each of the image containing folder.\n",
        "  path_new = os.path.join(directory, i)\n",
        "  label = choice.index(i)   #Takes 0 as covid and 1 as normal\n",
        "  print(path_new)\n",
        "  for image in os.listdir(path_new):\n",
        "    image_array = cv2.imread(os.path.join(path_new,image), 0)\n",
        "    dataset.append([cv2.resize(image_array, (img_size,img_size)), label])"
      ],
      "execution_count": null,
      "outputs": [
        {
          "output_type": "stream",
          "text": [
            "/content/with_mask\n",
            "/content/without_mask\n"
          ],
          "name": "stdout"
        }
      ]
    },
    {
      "cell_type": "markdown",
      "metadata": {
        "id": "Z0BWogwE_-iq"
      },
      "source": [
        "Let us check if we can see the images."
      ]
    },
    {
      "cell_type": "code",
      "metadata": {
        "colab": {
          "base_uri": "https://localhost:8080/",
          "height": 241
        },
        "id": "TpzcEX1-_5KK",
        "outputId": "e3ecca76-234c-4a76-92d6-4f46c8066f54"
      },
      "source": [
        "cv2_imshow(dataset[0][0])"
      ],
      "execution_count": null,
      "outputs": [
        {
          "output_type": "display_data",
          "data": {
            "image/png": "[encoded data removed]",
            "text/plain": [
              "<PIL.Image.Image image mode=L size=224x224 at 0x7FD8426B1090>"
            ]
          },
          "metadata": {
            "tags": []
          }
        }
      ]
    },
    {
      "cell_type": "markdown",
      "metadata": {
        "id": "zVuK1kWVAOgh"
      },
      "source": [
        "Let us check the size of the image by using shape command."
      ]
    },
    {
      "cell_type": "code",
      "metadata": {
        "colab": {
          "base_uri": "https://localhost:8080/"
        },
        "id": "FHZ7gkTSAPk4",
        "outputId": "ffb08aff-5356-43e7-e318-56df1daea388"
      },
      "source": [
        "np.shape(dataset[0][0])"
      ],
      "execution_count": null,
      "outputs": [
        {
          "output_type": "execute_result",
          "data": {
            "text/plain": [
              "(224, 224)"
            ]
          },
          "metadata": {
            "tags": []
          },
          "execution_count": 26
        }
      ]
    },
    {
      "cell_type": "markdown",
      "metadata": {
        "id": "do6tsRkQAhSu"
      },
      "source": [
        "Let us check the number of rows in the dataset."
      ]
    },
    {
      "cell_type": "code",
      "metadata": {
        "colab": {
          "base_uri": "https://localhost:8080/"
        },
        "id": "OQR5Z35_AfOp",
        "outputId": "6e4d3e1e-f86a-485a-dae4-5ca995569df1"
      },
      "source": [
        "len(dataset)"
      ],
      "execution_count": null,
      "outputs": [
        {
          "output_type": "execute_result",
          "data": {
            "text/plain": [
              "1376"
            ]
          },
          "metadata": {
            "tags": []
          },
          "execution_count": 27
        }
      ]
    },
    {
      "cell_type": "markdown",
      "metadata": {
        "id": "wyKMMRccAyuy"
      },
      "source": [
        "**Now let us make train and test sets.**"
      ]
    },
    {
      "cell_type": "code",
      "metadata": {
        "id": "qxQZc9YQAq59"
      },
      "source": [
        "x_train = []\n",
        "y_train = []\n",
        "\n",
        "for feature, label in dataset:\n",
        "  x_train.append(feature)\n",
        "  y_train.append(label)\n",
        "\n",
        "# Normalize the data\n",
        "x_train = np.array(x_train)/ 255\n",
        "y_train = np.array(y_train)\n",
        "x_train = x_train.reshape(x_train.shape[0], img_size, img_size, 1)"
      ],
      "execution_count": null,
      "outputs": []
    },
    {
      "cell_type": "markdown",
      "metadata": {
        "id": "i_iZHwrVB7se"
      },
      "source": [
        "**Making the model**"
      ]
    },
    {
      "cell_type": "code",
      "metadata": {
        "id": "OiBtDMESApDj",
        "colab": {
          "base_uri": "https://localhost:8080/"
        },
        "outputId": "14751d9c-b225-49e5-baa2-2c2743352fd1"
      },
      "source": [
        "model = Sequential()\n",
        "model.add(Conv2D(32,3,padding=\"same\", activation=\"relu\", input_shape=(img_size,img_size,1)))\n",
        "model.add(MaxPool2D())\n",
        "model.add(Dropout(0.1))\n",
        "\n",
        "model.add(Conv2D(32, 3, padding=\"same\", activation=\"relu\"))\n",
        "model.add(MaxPool2D())\n",
        "\n",
        "model.add(Conv2D(64, 3, padding=\"same\", activation=\"relu\"))\n",
        "model.add(MaxPool2D())\n",
        "model.add(Dropout(0.4))\n",
        "\n",
        "model.add(Flatten())\n",
        "model.add(Dense(128,activation=\"relu\"))\n",
        "model.add(Dense(2, activation=\"softmax\"))\n",
        "\n",
        "model.summary()"
      ],
      "execution_count": null,
      "outputs": [
        {
          "output_type": "stream",
          "text": [
            "Model: \"sequential_1\"\n",
            "_________________________________________________________________\n",
            "Layer (type)                 Output Shape              Param #   \n",
            "=================================================================\n",
            "conv2d_3 (Conv2D)            (None, 224, 224, 32)      320       \n",
            "_________________________________________________________________\n",
            "max_pooling2d_3 (MaxPooling2 (None, 112, 112, 32)      0         \n",
            "_________________________________________________________________\n",
            "dropout_1 (Dropout)          (None, 112, 112, 32)      0         \n",
            "_________________________________________________________________\n",
            "conv2d_4 (Conv2D)            (None, 112, 112, 32)      9248      \n",
            "_________________________________________________________________\n",
            "max_pooling2d_4 (MaxPooling2 (None, 56, 56, 32)        0         \n",
            "_________________________________________________________________\n",
            "conv2d_5 (Conv2D)            (None, 56, 56, 64)        18496     \n",
            "_________________________________________________________________\n",
            "max_pooling2d_5 (MaxPooling2 (None, 28, 28, 64)        0         \n",
            "_________________________________________________________________\n",
            "dropout_2 (Dropout)          (None, 28, 28, 64)        0         \n",
            "_________________________________________________________________\n",
            "flatten_1 (Flatten)          (None, 50176)             0         \n",
            "_________________________________________________________________\n",
            "dense_2 (Dense)              (None, 128)               6422656   \n",
            "_________________________________________________________________\n",
            "dense_3 (Dense)              (None, 2)                 258       \n",
            "=================================================================\n",
            "Total params: 6,450,978\n",
            "Trainable params: 6,450,978\n",
            "Non-trainable params: 0\n",
            "_________________________________________________________________\n"
          ],
          "name": "stdout"
        }
      ]
    },
    {
      "cell_type": "code",
      "metadata": {
        "id": "Qj82laiFCGki"
      },
      "source": [
        "#opt = Adam(lr=0.000001)\n",
        "opt = tf.keras.optimizers.SGD(lr=0.01)\n",
        "model.compile(optimizer = opt , loss = tf.keras.losses.SparseCategoricalCrossentropy(from_logits=True) , metrics = ['accuracy'])"
      ],
      "execution_count": null,
      "outputs": []
    },
    {
      "cell_type": "code",
      "metadata": {
        "id": "Kta9aqsMCH0y",
        "colab": {
          "base_uri": "https://localhost:8080/"
        },
        "outputId": "6c16c67f-cc9e-4737-996f-672cd30954cb"
      },
      "source": [
        "history = model.fit(x_train, y_train, epochs = 15 , validation_split=0.2)"
      ],
      "execution_count": null,
      "outputs": [
        {
          "output_type": "stream",
          "text": [
            "Epoch 1/15\n",
            "35/35 [==============================] - 62s 2s/step - loss: 0.6577 - accuracy: 0.6070 - val_loss: 0.8636 - val_accuracy: 0.0399\n",
            "Epoch 2/15\n",
            "35/35 [==============================] - 62s 2s/step - loss: 0.6005 - accuracy: 0.6647 - val_loss: 0.8282 - val_accuracy: 0.3080\n",
            "Epoch 3/15\n",
            "35/35 [==============================] - 62s 2s/step - loss: 0.5210 - accuracy: 0.7308 - val_loss: 0.7487 - val_accuracy: 0.5145\n",
            "Epoch 4/15\n",
            "35/35 [==============================] - 61s 2s/step - loss: 0.4913 - accuracy: 0.7490 - val_loss: 0.5750 - val_accuracy: 0.6884\n",
            "Epoch 5/15\n",
            "35/35 [==============================] - 62s 2s/step - loss: 0.4198 - accuracy: 0.7926 - val_loss: 0.5784 - val_accuracy: 0.7101\n",
            "Epoch 6/15\n",
            "35/35 [==============================] - 61s 2s/step - loss: 0.3283 - accuracy: 0.8527 - val_loss: 0.4224 - val_accuracy: 0.8297\n",
            "Epoch 7/15\n",
            "35/35 [==============================] - 61s 2s/step - loss: 0.3062 - accuracy: 0.8777 - val_loss: 0.2409 - val_accuracy: 0.9746\n",
            "Epoch 8/15\n",
            "35/35 [==============================] - 61s 2s/step - loss: 0.3034 - accuracy: 0.8773 - val_loss: 0.3785 - val_accuracy: 0.8406\n",
            "Epoch 9/15\n",
            "35/35 [==============================] - 61s 2s/step - loss: 0.2482 - accuracy: 0.8930 - val_loss: 0.3547 - val_accuracy: 0.8551\n",
            "Epoch 10/15\n",
            "35/35 [==============================] - 62s 2s/step - loss: 0.2133 - accuracy: 0.9277 - val_loss: 0.3013 - val_accuracy: 0.8986\n",
            "Epoch 11/15\n",
            "35/35 [==============================] - 62s 2s/step - loss: 0.1771 - accuracy: 0.9316 - val_loss: 0.1531 - val_accuracy: 0.9674\n",
            "Epoch 12/15\n",
            "35/35 [==============================] - 62s 2s/step - loss: 0.1882 - accuracy: 0.9323 - val_loss: 0.3064 - val_accuracy: 0.8913\n",
            "Epoch 13/15\n",
            "35/35 [==============================] - 61s 2s/step - loss: 0.2175 - accuracy: 0.9241 - val_loss: 0.2178 - val_accuracy: 0.9167\n",
            "Epoch 14/15\n",
            "35/35 [==============================] - 61s 2s/step - loss: 0.1218 - accuracy: 0.9602 - val_loss: 0.3696 - val_accuracy: 0.8587\n",
            "Epoch 15/15\n",
            "35/35 [==============================] - 62s 2s/step - loss: 0.1595 - accuracy: 0.9346 - val_loss: 0.2948 - val_accuracy: 0.8913\n"
          ],
          "name": "stdout"
        }
      ]
    },
    {
      "cell_type": "markdown",
      "metadata": {
        "id": "9M6R1aLWZu96"
      },
      "source": [
        "**As you can see, we have achieved an accuracy of 95%**"
      ]
    }
  ]
}